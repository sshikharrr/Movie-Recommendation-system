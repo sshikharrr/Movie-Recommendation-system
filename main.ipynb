{
  "metadata": {
    "kernelspec": {
      "name": "python",
      "display_name": "Python (Pyodide)",
      "language": "python"
    },
    "language_info": {
      "codemirror_mode": {
        "name": "python",
        "version": 3
      },
      "file_extension": ".py",
      "mimetype": "text/x-python",
      "name": "python",
      "nbconvert_exporter": "python",
      "pygments_lexer": "ipython3",
      "version": "3.8"
    }
  },
  "nbformat_minor": 4,
  "nbformat": 4,
  "cells": [
    {
      "cell_type": "code",
      "source": "import numpy as np \nimport pandas as pd\n",
      "metadata": {
        "trusted": true
      },
      "outputs": [
        {
          "name": "stderr",
          "text": "<ipython-input-1-f20def6a2be1>:2: DeprecationWarning: \nPyarrow will become a required dependency of pandas in the next major release of pandas (pandas 3.0),\n(to allow more performant data types, such as the Arrow string type, and better interoperability with other libraries)\nbut was not found to be installed on your system.\nIf this would cause problems for you,\nplease provide us feedback at https://github.com/pandas-dev/pandas/issues/54466\n        \n  import pandas as pd\n",
          "output_type": "stream"
        }
      ],
      "execution_count": 1
    },
    {
      "cell_type": "code",
      "source": "movies=pd.read_csv('tmdb_5000_movies.csv')",
      "metadata": {
        "trusted": true
      },
      "outputs": [],
      "execution_count": 2
    },
    {
      "cell_type": "code",
      "source": "credits=pd.read_csv('tmdb_5000_credits.csv')",
      "metadata": {
        "trusted": true
      },
      "outputs": [],
      "execution_count": 3
    },
    {
      "cell_type": "code",
      "source": "movies.head()",
      "metadata": {
        "trusted": true
      },
      "outputs": [
        {
          "execution_count": 4,
          "output_type": "execute_result",
          "data": {
            "text/plain": "      budget                                             genres  \\\n0  237000000  [{\"id\": 28, \"name\": \"Action\"}, {\"id\": 12, \"nam...   \n1  300000000  [{\"id\": 12, \"name\": \"Adventure\"}, {\"id\": 14, \"...   \n2  245000000  [{\"id\": 28, \"name\": \"Action\"}, {\"id\": 12, \"nam...   \n3  250000000  [{\"id\": 28, \"name\": \"Action\"}, {\"id\": 80, \"nam...   \n4  260000000  [{\"id\": 28, \"name\": \"Action\"}, {\"id\": 12, \"nam...   \n\n                                       homepage      id  \\\n0                   http://www.avatarmovie.com/   19995   \n1  http://disney.go.com/disneypictures/pirates/     285   \n2   http://www.sonypictures.com/movies/spectre/  206647   \n3            http://www.thedarkknightrises.com/   49026   \n4          http://movies.disney.com/john-carter   49529   \n\n                                            keywords original_language  \\\n0  [{\"id\": 1463, \"name\": \"culture clash\"}, {\"id\":...                en   \n1  [{\"id\": 270, \"name\": \"ocean\"}, {\"id\": 726, \"na...                en   \n2  [{\"id\": 470, \"name\": \"spy\"}, {\"id\": 818, \"name...                en   \n3  [{\"id\": 849, \"name\": \"dc comics\"}, {\"id\": 853,...                en   \n4  [{\"id\": 818, \"name\": \"based on novel\"}, {\"id\":...                en   \n\n                             original_title  \\\n0                                    Avatar   \n1  Pirates of the Caribbean: At World's End   \n2                                   Spectre   \n3                     The Dark Knight Rises   \n4                               John Carter   \n\n                                            overview  popularity  \\\n0  In the 22nd century, a paraplegic Marine is di...  150.437577   \n1  Captain Barbossa, long believed to be dead, ha...  139.082615   \n2  A cryptic message from Bond’s past sends him o...  107.376788   \n3  Following the death of District Attorney Harve...  112.312950   \n4  John Carter is a war-weary, former military ca...   43.926995   \n\n                                production_companies  \\\n0  [{\"name\": \"Ingenious Film Partners\", \"id\": 289...   \n1  [{\"name\": \"Walt Disney Pictures\", \"id\": 2}, {\"...   \n2  [{\"name\": \"Columbia Pictures\", \"id\": 5}, {\"nam...   \n3  [{\"name\": \"Legendary Pictures\", \"id\": 923}, {\"...   \n4        [{\"name\": \"Walt Disney Pictures\", \"id\": 2}]   \n\n                                production_countries release_date     revenue  \\\n0  [{\"iso_3166_1\": \"US\", \"name\": \"United States o...   2009-12-10  2787965087   \n1  [{\"iso_3166_1\": \"US\", \"name\": \"United States o...   2007-05-19   961000000   \n2  [{\"iso_3166_1\": \"GB\", \"name\": \"United Kingdom\"...   2015-10-26   880674609   \n3  [{\"iso_3166_1\": \"US\", \"name\": \"United States o...   2012-07-16  1084939099   \n4  [{\"iso_3166_1\": \"US\", \"name\": \"United States o...   2012-03-07   284139100   \n\n   runtime                                   spoken_languages    status  \\\n0    162.0  [{\"iso_639_1\": \"en\", \"name\": \"English\"}, {\"iso...  Released   \n1    169.0           [{\"iso_639_1\": \"en\", \"name\": \"English\"}]  Released   \n2    148.0  [{\"iso_639_1\": \"fr\", \"name\": \"Fran\\u00e7ais\"},...  Released   \n3    165.0           [{\"iso_639_1\": \"en\", \"name\": \"English\"}]  Released   \n4    132.0           [{\"iso_639_1\": \"en\", \"name\": \"English\"}]  Released   \n\n                                          tagline  \\\n0                     Enter the World of Pandora.   \n1  At the end of the world, the adventure begins.   \n2                           A Plan No One Escapes   \n3                                 The Legend Ends   \n4            Lost in our world, found in another.   \n\n                                      title  vote_average  vote_count  \n0                                    Avatar           7.2       11800  \n1  Pirates of the Caribbean: At World's End           6.9        4500  \n2                                   Spectre           6.3        4466  \n3                     The Dark Knight Rises           7.6        9106  \n4                               John Carter           6.1        2124  ",
            "text/html": "<div>\n<style scoped>\n    .dataframe tbody tr th:only-of-type {\n        vertical-align: middle;\n    }\n\n    .dataframe tbody tr th {\n        vertical-align: top;\n    }\n\n    .dataframe thead th {\n        text-align: right;\n    }\n</style>\n<table border=\"1\" class=\"dataframe\">\n  <thead>\n    <tr style=\"text-align: right;\">\n      <th></th>\n      <th>budget</th>\n      <th>genres</th>\n      <th>homepage</th>\n      <th>id</th>\n      <th>keywords</th>\n      <th>original_language</th>\n      <th>original_title</th>\n      <th>overview</th>\n      <th>popularity</th>\n      <th>production_companies</th>\n      <th>production_countries</th>\n      <th>release_date</th>\n      <th>revenue</th>\n      <th>runtime</th>\n      <th>spoken_languages</th>\n      <th>status</th>\n      <th>tagline</th>\n      <th>title</th>\n      <th>vote_average</th>\n      <th>vote_count</th>\n    </tr>\n  </thead>\n  <tbody>\n    <tr>\n      <th>0</th>\n      <td>237000000</td>\n      <td>[{\"id\": 28, \"name\": \"Action\"}, {\"id\": 12, \"nam...</td>\n      <td>http://www.avatarmovie.com/</td>\n      <td>19995</td>\n      <td>[{\"id\": 1463, \"name\": \"culture clash\"}, {\"id\":...</td>\n      <td>en</td>\n      <td>Avatar</td>\n      <td>In the 22nd century, a paraplegic Marine is di...</td>\n      <td>150.437577</td>\n      <td>[{\"name\": \"Ingenious Film Partners\", \"id\": 289...</td>\n      <td>[{\"iso_3166_1\": \"US\", \"name\": \"United States o...</td>\n      <td>2009-12-10</td>\n      <td>2787965087</td>\n      <td>162.0</td>\n      <td>[{\"iso_639_1\": \"en\", \"name\": \"English\"}, {\"iso...</td>\n      <td>Released</td>\n      <td>Enter the World of Pandora.</td>\n      <td>Avatar</td>\n      <td>7.2</td>\n      <td>11800</td>\n    </tr>\n    <tr>\n      <th>1</th>\n      <td>300000000</td>\n      <td>[{\"id\": 12, \"name\": \"Adventure\"}, {\"id\": 14, \"...</td>\n      <td>http://disney.go.com/disneypictures/pirates/</td>\n      <td>285</td>\n      <td>[{\"id\": 270, \"name\": \"ocean\"}, {\"id\": 726, \"na...</td>\n      <td>en</td>\n      <td>Pirates of the Caribbean: At World's End</td>\n      <td>Captain Barbossa, long believed to be dead, ha...</td>\n      <td>139.082615</td>\n      <td>[{\"name\": \"Walt Disney Pictures\", \"id\": 2}, {\"...</td>\n      <td>[{\"iso_3166_1\": \"US\", \"name\": \"United States o...</td>\n      <td>2007-05-19</td>\n      <td>961000000</td>\n      <td>169.0</td>\n      <td>[{\"iso_639_1\": \"en\", \"name\": \"English\"}]</td>\n      <td>Released</td>\n      <td>At the end of the world, the adventure begins.</td>\n      <td>Pirates of the Caribbean: At World's End</td>\n      <td>6.9</td>\n      <td>4500</td>\n    </tr>\n    <tr>\n      <th>2</th>\n      <td>245000000</td>\n      <td>[{\"id\": 28, \"name\": \"Action\"}, {\"id\": 12, \"nam...</td>\n      <td>http://www.sonypictures.com/movies/spectre/</td>\n      <td>206647</td>\n      <td>[{\"id\": 470, \"name\": \"spy\"}, {\"id\": 818, \"name...</td>\n      <td>en</td>\n      <td>Spectre</td>\n      <td>A cryptic message from Bond’s past sends him o...</td>\n      <td>107.376788</td>\n      <td>[{\"name\": \"Columbia Pictures\", \"id\": 5}, {\"nam...</td>\n      <td>[{\"iso_3166_1\": \"GB\", \"name\": \"United Kingdom\"...</td>\n      <td>2015-10-26</td>\n      <td>880674609</td>\n      <td>148.0</td>\n      <td>[{\"iso_639_1\": \"fr\", \"name\": \"Fran\\u00e7ais\"},...</td>\n      <td>Released</td>\n      <td>A Plan No One Escapes</td>\n      <td>Spectre</td>\n      <td>6.3</td>\n      <td>4466</td>\n    </tr>\n    <tr>\n      <th>3</th>\n      <td>250000000</td>\n      <td>[{\"id\": 28, \"name\": \"Action\"}, {\"id\": 80, \"nam...</td>\n      <td>http://www.thedarkknightrises.com/</td>\n      <td>49026</td>\n      <td>[{\"id\": 849, \"name\": \"dc comics\"}, {\"id\": 853,...</td>\n      <td>en</td>\n      <td>The Dark Knight Rises</td>\n      <td>Following the death of District Attorney Harve...</td>\n      <td>112.312950</td>\n      <td>[{\"name\": \"Legendary Pictures\", \"id\": 923}, {\"...</td>\n      <td>[{\"iso_3166_1\": \"US\", \"name\": \"United States o...</td>\n      <td>2012-07-16</td>\n      <td>1084939099</td>\n      <td>165.0</td>\n      <td>[{\"iso_639_1\": \"en\", \"name\": \"English\"}]</td>\n      <td>Released</td>\n      <td>The Legend Ends</td>\n      <td>The Dark Knight Rises</td>\n      <td>7.6</td>\n      <td>9106</td>\n    </tr>\n    <tr>\n      <th>4</th>\n      <td>260000000</td>\n      <td>[{\"id\": 28, \"name\": \"Action\"}, {\"id\": 12, \"nam...</td>\n      <td>http://movies.disney.com/john-carter</td>\n      <td>49529</td>\n      <td>[{\"id\": 818, \"name\": \"based on novel\"}, {\"id\":...</td>\n      <td>en</td>\n      <td>John Carter</td>\n      <td>John Carter is a war-weary, former military ca...</td>\n      <td>43.926995</td>\n      <td>[{\"name\": \"Walt Disney Pictures\", \"id\": 2}]</td>\n      <td>[{\"iso_3166_1\": \"US\", \"name\": \"United States o...</td>\n      <td>2012-03-07</td>\n      <td>284139100</td>\n      <td>132.0</td>\n      <td>[{\"iso_639_1\": \"en\", \"name\": \"English\"}]</td>\n      <td>Released</td>\n      <td>Lost in our world, found in another.</td>\n      <td>John Carter</td>\n      <td>6.1</td>\n      <td>2124</td>\n    </tr>\n  </tbody>\n</table>\n</div>"
          },
          "metadata": {}
        }
      ],
      "execution_count": 4
    },
    {
      "cell_type": "code",
      "source": "credits.head()",
      "metadata": {
        "trusted": true
      },
      "outputs": [
        {
          "execution_count": 5,
          "output_type": "execute_result",
          "data": {
            "text/plain": "   movie_id                                     title  \\\n0     19995                                    Avatar   \n1       285  Pirates of the Caribbean: At World's End   \n2    206647                                   Spectre   \n3     49026                     The Dark Knight Rises   \n4     49529                               John Carter   \n\n                                                cast  \\\n0  [{\"cast_id\": 242, \"character\": \"Jake Sully\", \"...   \n1  [{\"cast_id\": 4, \"character\": \"Captain Jack Spa...   \n2  [{\"cast_id\": 1, \"character\": \"James Bond\", \"cr...   \n3  [{\"cast_id\": 2, \"character\": \"Bruce Wayne / Ba...   \n4  [{\"cast_id\": 5, \"character\": \"John Carter\", \"c...   \n\n                                                crew  \n0  [{\"credit_id\": \"52fe48009251416c750aca23\", \"de...  \n1  [{\"credit_id\": \"52fe4232c3a36847f800b579\", \"de...  \n2  [{\"credit_id\": \"54805967c3a36829b5002c41\", \"de...  \n3  [{\"credit_id\": \"52fe4781c3a36847f81398c3\", \"de...  \n4  [{\"credit_id\": \"52fe479ac3a36847f813eaa3\", \"de...  ",
            "text/html": "<div>\n<style scoped>\n    .dataframe tbody tr th:only-of-type {\n        vertical-align: middle;\n    }\n\n    .dataframe tbody tr th {\n        vertical-align: top;\n    }\n\n    .dataframe thead th {\n        text-align: right;\n    }\n</style>\n<table border=\"1\" class=\"dataframe\">\n  <thead>\n    <tr style=\"text-align: right;\">\n      <th></th>\n      <th>movie_id</th>\n      <th>title</th>\n      <th>cast</th>\n      <th>crew</th>\n    </tr>\n  </thead>\n  <tbody>\n    <tr>\n      <th>0</th>\n      <td>19995</td>\n      <td>Avatar</td>\n      <td>[{\"cast_id\": 242, \"character\": \"Jake Sully\", \"...</td>\n      <td>[{\"credit_id\": \"52fe48009251416c750aca23\", \"de...</td>\n    </tr>\n    <tr>\n      <th>1</th>\n      <td>285</td>\n      <td>Pirates of the Caribbean: At World's End</td>\n      <td>[{\"cast_id\": 4, \"character\": \"Captain Jack Spa...</td>\n      <td>[{\"credit_id\": \"52fe4232c3a36847f800b579\", \"de...</td>\n    </tr>\n    <tr>\n      <th>2</th>\n      <td>206647</td>\n      <td>Spectre</td>\n      <td>[{\"cast_id\": 1, \"character\": \"James Bond\", \"cr...</td>\n      <td>[{\"credit_id\": \"54805967c3a36829b5002c41\", \"de...</td>\n    </tr>\n    <tr>\n      <th>3</th>\n      <td>49026</td>\n      <td>The Dark Knight Rises</td>\n      <td>[{\"cast_id\": 2, \"character\": \"Bruce Wayne / Ba...</td>\n      <td>[{\"credit_id\": \"52fe4781c3a36847f81398c3\", \"de...</td>\n    </tr>\n    <tr>\n      <th>4</th>\n      <td>49529</td>\n      <td>John Carter</td>\n      <td>[{\"cast_id\": 5, \"character\": \"John Carter\", \"c...</td>\n      <td>[{\"credit_id\": \"52fe479ac3a36847f813eaa3\", \"de...</td>\n    </tr>\n  </tbody>\n</table>\n</div>"
          },
          "metadata": {}
        }
      ],
      "execution_count": 5
    },
    {
      "cell_type": "code",
      "source": "movies=movies.merge(credits,on='title')",
      "metadata": {
        "trusted": true
      },
      "outputs": [],
      "execution_count": 15
    },
    {
      "cell_type": "code",
      "source": "movies.head()\n",
      "metadata": {
        "trusted": true
      },
      "outputs": [
        {
          "execution_count": 16,
          "output_type": "execute_result",
          "data": {
            "text/plain": "      budget                                             genres  \\\n0  237000000  [{\"id\": 28, \"name\": \"Action\"}, {\"id\": 12, \"nam...   \n1  300000000  [{\"id\": 12, \"name\": \"Adventure\"}, {\"id\": 14, \"...   \n2  245000000  [{\"id\": 28, \"name\": \"Action\"}, {\"id\": 12, \"nam...   \n3  250000000  [{\"id\": 28, \"name\": \"Action\"}, {\"id\": 80, \"nam...   \n4  260000000  [{\"id\": 28, \"name\": \"Action\"}, {\"id\": 12, \"nam...   \n\n                                       homepage      id  \\\n0                   http://www.avatarmovie.com/   19995   \n1  http://disney.go.com/disneypictures/pirates/     285   \n2   http://www.sonypictures.com/movies/spectre/  206647   \n3            http://www.thedarkknightrises.com/   49026   \n4          http://movies.disney.com/john-carter   49529   \n\n                                            keywords original_language  \\\n0  [{\"id\": 1463, \"name\": \"culture clash\"}, {\"id\":...                en   \n1  [{\"id\": 270, \"name\": \"ocean\"}, {\"id\": 726, \"na...                en   \n2  [{\"id\": 470, \"name\": \"spy\"}, {\"id\": 818, \"name...                en   \n3  [{\"id\": 849, \"name\": \"dc comics\"}, {\"id\": 853,...                en   \n4  [{\"id\": 818, \"name\": \"based on novel\"}, {\"id\":...                en   \n\n                             original_title  \\\n0                                    Avatar   \n1  Pirates of the Caribbean: At World's End   \n2                                   Spectre   \n3                     The Dark Knight Rises   \n4                               John Carter   \n\n                                            overview  popularity  \\\n0  In the 22nd century, a paraplegic Marine is di...  150.437577   \n1  Captain Barbossa, long believed to be dead, ha...  139.082615   \n2  A cryptic message from Bond’s past sends him o...  107.376788   \n3  Following the death of District Attorney Harve...  112.312950   \n4  John Carter is a war-weary, former military ca...   43.926995   \n\n                                production_companies  ... runtime  \\\n0  [{\"name\": \"Ingenious Film Partners\", \"id\": 289...  ...   162.0   \n1  [{\"name\": \"Walt Disney Pictures\", \"id\": 2}, {\"...  ...   169.0   \n2  [{\"name\": \"Columbia Pictures\", \"id\": 5}, {\"nam...  ...   148.0   \n3  [{\"name\": \"Legendary Pictures\", \"id\": 923}, {\"...  ...   165.0   \n4        [{\"name\": \"Walt Disney Pictures\", \"id\": 2}]  ...   132.0   \n\n                                    spoken_languages    status  \\\n0  [{\"iso_639_1\": \"en\", \"name\": \"English\"}, {\"iso...  Released   \n1           [{\"iso_639_1\": \"en\", \"name\": \"English\"}]  Released   \n2  [{\"iso_639_1\": \"fr\", \"name\": \"Fran\\u00e7ais\"},...  Released   \n3           [{\"iso_639_1\": \"en\", \"name\": \"English\"}]  Released   \n4           [{\"iso_639_1\": \"en\", \"name\": \"English\"}]  Released   \n\n                                          tagline  \\\n0                     Enter the World of Pandora.   \n1  At the end of the world, the adventure begins.   \n2                           A Plan No One Escapes   \n3                                 The Legend Ends   \n4            Lost in our world, found in another.   \n\n                                      title vote_average vote_count movie_id  \\\n0                                    Avatar          7.2      11800    19995   \n1  Pirates of the Caribbean: At World's End          6.9       4500      285   \n2                                   Spectre          6.3       4466   206647   \n3                     The Dark Knight Rises          7.6       9106    49026   \n4                               John Carter          6.1       2124    49529   \n\n                                                cast  \\\n0  [{\"cast_id\": 242, \"character\": \"Jake Sully\", \"...   \n1  [{\"cast_id\": 4, \"character\": \"Captain Jack Spa...   \n2  [{\"cast_id\": 1, \"character\": \"James Bond\", \"cr...   \n3  [{\"cast_id\": 2, \"character\": \"Bruce Wayne / Ba...   \n4  [{\"cast_id\": 5, \"character\": \"John Carter\", \"c...   \n\n                                                crew  \n0  [{\"credit_id\": \"52fe48009251416c750aca23\", \"de...  \n1  [{\"credit_id\": \"52fe4232c3a36847f800b579\", \"de...  \n2  [{\"credit_id\": \"54805967c3a36829b5002c41\", \"de...  \n3  [{\"credit_id\": \"52fe4781c3a36847f81398c3\", \"de...  \n4  [{\"credit_id\": \"52fe479ac3a36847f813eaa3\", \"de...  \n\n[5 rows x 23 columns]",
            "text/html": "<div>\n<style scoped>\n    .dataframe tbody tr th:only-of-type {\n        vertical-align: middle;\n    }\n\n    .dataframe tbody tr th {\n        vertical-align: top;\n    }\n\n    .dataframe thead th {\n        text-align: right;\n    }\n</style>\n<table border=\"1\" class=\"dataframe\">\n  <thead>\n    <tr style=\"text-align: right;\">\n      <th></th>\n      <th>budget</th>\n      <th>genres</th>\n      <th>homepage</th>\n      <th>id</th>\n      <th>keywords</th>\n      <th>original_language</th>\n      <th>original_title</th>\n      <th>overview</th>\n      <th>popularity</th>\n      <th>production_companies</th>\n      <th>...</th>\n      <th>runtime</th>\n      <th>spoken_languages</th>\n      <th>status</th>\n      <th>tagline</th>\n      <th>title</th>\n      <th>vote_average</th>\n      <th>vote_count</th>\n      <th>movie_id</th>\n      <th>cast</th>\n      <th>crew</th>\n    </tr>\n  </thead>\n  <tbody>\n    <tr>\n      <th>0</th>\n      <td>237000000</td>\n      <td>[{\"id\": 28, \"name\": \"Action\"}, {\"id\": 12, \"nam...</td>\n      <td>http://www.avatarmovie.com/</td>\n      <td>19995</td>\n      <td>[{\"id\": 1463, \"name\": \"culture clash\"}, {\"id\":...</td>\n      <td>en</td>\n      <td>Avatar</td>\n      <td>In the 22nd century, a paraplegic Marine is di...</td>\n      <td>150.437577</td>\n      <td>[{\"name\": \"Ingenious Film Partners\", \"id\": 289...</td>\n      <td>...</td>\n      <td>162.0</td>\n      <td>[{\"iso_639_1\": \"en\", \"name\": \"English\"}, {\"iso...</td>\n      <td>Released</td>\n      <td>Enter the World of Pandora.</td>\n      <td>Avatar</td>\n      <td>7.2</td>\n      <td>11800</td>\n      <td>19995</td>\n      <td>[{\"cast_id\": 242, \"character\": \"Jake Sully\", \"...</td>\n      <td>[{\"credit_id\": \"52fe48009251416c750aca23\", \"de...</td>\n    </tr>\n    <tr>\n      <th>1</th>\n      <td>300000000</td>\n      <td>[{\"id\": 12, \"name\": \"Adventure\"}, {\"id\": 14, \"...</td>\n      <td>http://disney.go.com/disneypictures/pirates/</td>\n      <td>285</td>\n      <td>[{\"id\": 270, \"name\": \"ocean\"}, {\"id\": 726, \"na...</td>\n      <td>en</td>\n      <td>Pirates of the Caribbean: At World's End</td>\n      <td>Captain Barbossa, long believed to be dead, ha...</td>\n      <td>139.082615</td>\n      <td>[{\"name\": \"Walt Disney Pictures\", \"id\": 2}, {\"...</td>\n      <td>...</td>\n      <td>169.0</td>\n      <td>[{\"iso_639_1\": \"en\", \"name\": \"English\"}]</td>\n      <td>Released</td>\n      <td>At the end of the world, the adventure begins.</td>\n      <td>Pirates of the Caribbean: At World's End</td>\n      <td>6.9</td>\n      <td>4500</td>\n      <td>285</td>\n      <td>[{\"cast_id\": 4, \"character\": \"Captain Jack Spa...</td>\n      <td>[{\"credit_id\": \"52fe4232c3a36847f800b579\", \"de...</td>\n    </tr>\n    <tr>\n      <th>2</th>\n      <td>245000000</td>\n      <td>[{\"id\": 28, \"name\": \"Action\"}, {\"id\": 12, \"nam...</td>\n      <td>http://www.sonypictures.com/movies/spectre/</td>\n      <td>206647</td>\n      <td>[{\"id\": 470, \"name\": \"spy\"}, {\"id\": 818, \"name...</td>\n      <td>en</td>\n      <td>Spectre</td>\n      <td>A cryptic message from Bond’s past sends him o...</td>\n      <td>107.376788</td>\n      <td>[{\"name\": \"Columbia Pictures\", \"id\": 5}, {\"nam...</td>\n      <td>...</td>\n      <td>148.0</td>\n      <td>[{\"iso_639_1\": \"fr\", \"name\": \"Fran\\u00e7ais\"},...</td>\n      <td>Released</td>\n      <td>A Plan No One Escapes</td>\n      <td>Spectre</td>\n      <td>6.3</td>\n      <td>4466</td>\n      <td>206647</td>\n      <td>[{\"cast_id\": 1, \"character\": \"James Bond\", \"cr...</td>\n      <td>[{\"credit_id\": \"54805967c3a36829b5002c41\", \"de...</td>\n    </tr>\n    <tr>\n      <th>3</th>\n      <td>250000000</td>\n      <td>[{\"id\": 28, \"name\": \"Action\"}, {\"id\": 80, \"nam...</td>\n      <td>http://www.thedarkknightrises.com/</td>\n      <td>49026</td>\n      <td>[{\"id\": 849, \"name\": \"dc comics\"}, {\"id\": 853,...</td>\n      <td>en</td>\n      <td>The Dark Knight Rises</td>\n      <td>Following the death of District Attorney Harve...</td>\n      <td>112.312950</td>\n      <td>[{\"name\": \"Legendary Pictures\", \"id\": 923}, {\"...</td>\n      <td>...</td>\n      <td>165.0</td>\n      <td>[{\"iso_639_1\": \"en\", \"name\": \"English\"}]</td>\n      <td>Released</td>\n      <td>The Legend Ends</td>\n      <td>The Dark Knight Rises</td>\n      <td>7.6</td>\n      <td>9106</td>\n      <td>49026</td>\n      <td>[{\"cast_id\": 2, \"character\": \"Bruce Wayne / Ba...</td>\n      <td>[{\"credit_id\": \"52fe4781c3a36847f81398c3\", \"de...</td>\n    </tr>\n    <tr>\n      <th>4</th>\n      <td>260000000</td>\n      <td>[{\"id\": 28, \"name\": \"Action\"}, {\"id\": 12, \"nam...</td>\n      <td>http://movies.disney.com/john-carter</td>\n      <td>49529</td>\n      <td>[{\"id\": 818, \"name\": \"based on novel\"}, {\"id\":...</td>\n      <td>en</td>\n      <td>John Carter</td>\n      <td>John Carter is a war-weary, former military ca...</td>\n      <td>43.926995</td>\n      <td>[{\"name\": \"Walt Disney Pictures\", \"id\": 2}]</td>\n      <td>...</td>\n      <td>132.0</td>\n      <td>[{\"iso_639_1\": \"en\", \"name\": \"English\"}]</td>\n      <td>Released</td>\n      <td>Lost in our world, found in another.</td>\n      <td>John Carter</td>\n      <td>6.1</td>\n      <td>2124</td>\n      <td>49529</td>\n      <td>[{\"cast_id\": 5, \"character\": \"John Carter\", \"c...</td>\n      <td>[{\"credit_id\": \"52fe479ac3a36847f813eaa3\", \"de...</td>\n    </tr>\n  </tbody>\n</table>\n<p>5 rows × 23 columns</p>\n</div>"
          },
          "metadata": {}
        }
      ],
      "execution_count": 16
    },
    {
      "cell_type": "code",
      "source": "movies['original_language'].value_counts()",
      "metadata": {
        "trusted": true
      },
      "outputs": [
        {
          "execution_count": 8,
          "output_type": "execute_result",
          "data": {
            "text/plain": "original_language\nen    4505\nfr      70\nes      32\nzh      27\nde      27\nhi      19\nja      16\nit      14\ncn      12\nru      11\nko      11\npt       9\nda       7\nsv       5\nnl       4\nfa       4\nth       3\nhe       3\nta       2\ncs       2\nro       2\nid       2\nar       2\nvi       1\nsl       1\nps       1\nno       1\nky       1\nhu       1\npl       1\naf       1\nnb       1\ntr       1\nis       1\nxx       1\nte       1\nel       1\nName: count, dtype: int64"
          },
          "metadata": {}
        }
      ],
      "execution_count": 8
    },
    {
      "cell_type": "code",
      "source": "movies.info()",
      "metadata": {
        "trusted": true
      },
      "outputs": [
        {
          "name": "stdout",
          "text": "<class 'pandas.core.frame.DataFrame'>\nRangeIndex: 4803 entries, 0 to 4802\nData columns (total 20 columns):\n #   Column                Non-Null Count  Dtype  \n---  ------                --------------  -----  \n 0   budget                4803 non-null   int64  \n 1   genres                4803 non-null   object \n 2   homepage              1712 non-null   object \n 3   id                    4803 non-null   int64  \n 4   keywords              4803 non-null   object \n 5   original_language     4803 non-null   object \n 6   original_title        4803 non-null   object \n 7   overview              4800 non-null   object \n 8   popularity            4803 non-null   float64\n 9   production_companies  4803 non-null   object \n 10  production_countries  4803 non-null   object \n 11  release_date          4802 non-null   object \n 12  revenue               4803 non-null   int64  \n 13  runtime               4801 non-null   float64\n 14  spoken_languages      4803 non-null   object \n 15  status                4803 non-null   object \n 16  tagline               3959 non-null   object \n 17  title                 4803 non-null   object \n 18  vote_average          4803 non-null   float64\n 19  vote_count            4803 non-null   int64  \ndtypes: float64(3), int64(4), object(13)\nmemory usage: 506.6+ KB\n",
          "output_type": "stream"
        }
      ],
      "execution_count": 9
    },
    {
      "cell_type": "code",
      "source": "movies=movies[['movie_id','title','overview','genres','keywords','cast','crew']]",
      "metadata": {
        "trusted": true
      },
      "outputs": [],
      "execution_count": 21
    },
    {
      "cell_type": "code",
      "source": "movies.head()",
      "metadata": {
        "trusted": true
      },
      "outputs": [
        {
          "execution_count": 22,
          "output_type": "execute_result",
          "data": {
            "text/plain": "   movie_id                                     title  \\\n0     19995                                    Avatar   \n1       285  Pirates of the Caribbean: At World's End   \n2    206647                                   Spectre   \n3     49026                     The Dark Knight Rises   \n4     49529                               John Carter   \n\n                                            overview  \\\n0  In the 22nd century, a paraplegic Marine is di...   \n1  Captain Barbossa, long believed to be dead, ha...   \n2  A cryptic message from Bond’s past sends him o...   \n3  Following the death of District Attorney Harve...   \n4  John Carter is a war-weary, former military ca...   \n\n                                              genres  \\\n0  [{\"id\": 28, \"name\": \"Action\"}, {\"id\": 12, \"nam...   \n1  [{\"id\": 12, \"name\": \"Adventure\"}, {\"id\": 14, \"...   \n2  [{\"id\": 28, \"name\": \"Action\"}, {\"id\": 12, \"nam...   \n3  [{\"id\": 28, \"name\": \"Action\"}, {\"id\": 80, \"nam...   \n4  [{\"id\": 28, \"name\": \"Action\"}, {\"id\": 12, \"nam...   \n\n                                            keywords  \\\n0  [{\"id\": 1463, \"name\": \"culture clash\"}, {\"id\":...   \n1  [{\"id\": 270, \"name\": \"ocean\"}, {\"id\": 726, \"na...   \n2  [{\"id\": 470, \"name\": \"spy\"}, {\"id\": 818, \"name...   \n3  [{\"id\": 849, \"name\": \"dc comics\"}, {\"id\": 853,...   \n4  [{\"id\": 818, \"name\": \"based on novel\"}, {\"id\":...   \n\n                                                cast  \\\n0  [{\"cast_id\": 242, \"character\": \"Jake Sully\", \"...   \n1  [{\"cast_id\": 4, \"character\": \"Captain Jack Spa...   \n2  [{\"cast_id\": 1, \"character\": \"James Bond\", \"cr...   \n3  [{\"cast_id\": 2, \"character\": \"Bruce Wayne / Ba...   \n4  [{\"cast_id\": 5, \"character\": \"John Carter\", \"c...   \n\n                                                crew  \n0  [{\"credit_id\": \"52fe48009251416c750aca23\", \"de...  \n1  [{\"credit_id\": \"52fe4232c3a36847f800b579\", \"de...  \n2  [{\"credit_id\": \"54805967c3a36829b5002c41\", \"de...  \n3  [{\"credit_id\": \"52fe4781c3a36847f81398c3\", \"de...  \n4  [{\"credit_id\": \"52fe479ac3a36847f813eaa3\", \"de...  ",
            "text/html": "<div>\n<style scoped>\n    .dataframe tbody tr th:only-of-type {\n        vertical-align: middle;\n    }\n\n    .dataframe tbody tr th {\n        vertical-align: top;\n    }\n\n    .dataframe thead th {\n        text-align: right;\n    }\n</style>\n<table border=\"1\" class=\"dataframe\">\n  <thead>\n    <tr style=\"text-align: right;\">\n      <th></th>\n      <th>movie_id</th>\n      <th>title</th>\n      <th>overview</th>\n      <th>genres</th>\n      <th>keywords</th>\n      <th>cast</th>\n      <th>crew</th>\n    </tr>\n  </thead>\n  <tbody>\n    <tr>\n      <th>0</th>\n      <td>19995</td>\n      <td>Avatar</td>\n      <td>In the 22nd century, a paraplegic Marine is di...</td>\n      <td>[{\"id\": 28, \"name\": \"Action\"}, {\"id\": 12, \"nam...</td>\n      <td>[{\"id\": 1463, \"name\": \"culture clash\"}, {\"id\":...</td>\n      <td>[{\"cast_id\": 242, \"character\": \"Jake Sully\", \"...</td>\n      <td>[{\"credit_id\": \"52fe48009251416c750aca23\", \"de...</td>\n    </tr>\n    <tr>\n      <th>1</th>\n      <td>285</td>\n      <td>Pirates of the Caribbean: At World's End</td>\n      <td>Captain Barbossa, long believed to be dead, ha...</td>\n      <td>[{\"id\": 12, \"name\": \"Adventure\"}, {\"id\": 14, \"...</td>\n      <td>[{\"id\": 270, \"name\": \"ocean\"}, {\"id\": 726, \"na...</td>\n      <td>[{\"cast_id\": 4, \"character\": \"Captain Jack Spa...</td>\n      <td>[{\"credit_id\": \"52fe4232c3a36847f800b579\", \"de...</td>\n    </tr>\n    <tr>\n      <th>2</th>\n      <td>206647</td>\n      <td>Spectre</td>\n      <td>A cryptic message from Bond’s past sends him o...</td>\n      <td>[{\"id\": 28, \"name\": \"Action\"}, {\"id\": 12, \"nam...</td>\n      <td>[{\"id\": 470, \"name\": \"spy\"}, {\"id\": 818, \"name...</td>\n      <td>[{\"cast_id\": 1, \"character\": \"James Bond\", \"cr...</td>\n      <td>[{\"credit_id\": \"54805967c3a36829b5002c41\", \"de...</td>\n    </tr>\n    <tr>\n      <th>3</th>\n      <td>49026</td>\n      <td>The Dark Knight Rises</td>\n      <td>Following the death of District Attorney Harve...</td>\n      <td>[{\"id\": 28, \"name\": \"Action\"}, {\"id\": 80, \"nam...</td>\n      <td>[{\"id\": 849, \"name\": \"dc comics\"}, {\"id\": 853,...</td>\n      <td>[{\"cast_id\": 2, \"character\": \"Bruce Wayne / Ba...</td>\n      <td>[{\"credit_id\": \"52fe4781c3a36847f81398c3\", \"de...</td>\n    </tr>\n    <tr>\n      <th>4</th>\n      <td>49529</td>\n      <td>John Carter</td>\n      <td>John Carter is a war-weary, former military ca...</td>\n      <td>[{\"id\": 28, \"name\": \"Action\"}, {\"id\": 12, \"nam...</td>\n      <td>[{\"id\": 818, \"name\": \"based on novel\"}, {\"id\":...</td>\n      <td>[{\"cast_id\": 5, \"character\": \"John Carter\", \"c...</td>\n      <td>[{\"credit_id\": \"52fe479ac3a36847f813eaa3\", \"de...</td>\n    </tr>\n  </tbody>\n</table>\n</div>"
          },
          "metadata": {}
        }
      ],
      "execution_count": 22
    },
    {
      "cell_type": "code",
      "source": "movies.isnull().sum()",
      "metadata": {
        "trusted": true
      },
      "outputs": [
        {
          "execution_count": 25,
          "output_type": "execute_result",
          "data": {
            "text/plain": "movie_id    0\ntitle       0\noverview    0\ngenres      0\nkeywords    0\ncast        0\ncrew        0\ndtype: int64"
          },
          "metadata": {}
        }
      ],
      "execution_count": 25
    },
    {
      "cell_type": "code",
      "source": "movies.dropna(inplace=True)",
      "metadata": {
        "trusted": true
      },
      "outputs": [],
      "execution_count": 24
    },
    {
      "cell_type": "code",
      "source": "movies.duplicated().sum()",
      "metadata": {
        "trusted": true
      },
      "outputs": [
        {
          "execution_count": 26,
          "output_type": "execute_result",
          "data": {
            "text/plain": "0"
          },
          "metadata": {}
        }
      ],
      "execution_count": 26
    },
    {
      "cell_type": "code",
      "source": "movies.iloc[0].genres",
      "metadata": {
        "trusted": true
      },
      "outputs": [
        {
          "execution_count": 27,
          "output_type": "execute_result",
          "data": {
            "text/plain": "'[{\"id\": 28, \"name\": \"Action\"}, {\"id\": 12, \"name\": \"Adventure\"}, {\"id\": 14, \"name\": \"Fantasy\"}, {\"id\": 878, \"name\": \"Science Fiction\"}]'"
          },
          "metadata": {}
        }
      ],
      "execution_count": 27
    },
    {
      "cell_type": "code",
      "source": "def convert(obj):\n    l=[]\n    for i in ast.literal_eval(obj):\n        l.append(i['name'])\n    return l",
      "metadata": {
        "trusted": true
      },
      "outputs": [],
      "execution_count": 28
    },
    {
      "cell_type": "code",
      "source": "import ast",
      "metadata": {
        "trusted": true
      },
      "outputs": [],
      "execution_count": 29
    },
    {
      "cell_type": "code",
      "source": "movies['genres'].apply(convert)",
      "metadata": {
        "trusted": true
      },
      "outputs": [
        {
          "execution_count": 30,
          "output_type": "execute_result",
          "data": {
            "text/plain": "0       [Action, Adventure, Fantasy, Science Fiction]\n1                        [Adventure, Fantasy, Action]\n2                          [Action, Adventure, Crime]\n3                    [Action, Crime, Drama, Thriller]\n4                [Action, Adventure, Science Fiction]\n                            ...                      \n4779                                         [Comedy]\n4787                                [Comedy, Romance]\n4797                                         [Horror]\n4802               [Science Fiction, Drama, Thriller]\n4807                                               []\nName: genres, Length: 1494, dtype: object"
          },
          "metadata": {}
        }
      ],
      "execution_count": 30
    },
    {
      "cell_type": "code",
      "source": "movies['genres']=movies['genres'].apply(convert)",
      "metadata": {
        "trusted": true
      },
      "outputs": [],
      "execution_count": 31
    },
    {
      "cell_type": "code",
      "source": "movies.head()",
      "metadata": {
        "trusted": true
      },
      "outputs": [
        {
          "execution_count": 32,
          "output_type": "execute_result",
          "data": {
            "text/plain": "   movie_id                                     title  \\\n0     19995                                    Avatar   \n1       285  Pirates of the Caribbean: At World's End   \n2    206647                                   Spectre   \n3     49026                     The Dark Knight Rises   \n4     49529                               John Carter   \n\n                                            overview  \\\n0  In the 22nd century, a paraplegic Marine is di...   \n1  Captain Barbossa, long believed to be dead, ha...   \n2  A cryptic message from Bond’s past sends him o...   \n3  Following the death of District Attorney Harve...   \n4  John Carter is a war-weary, former military ca...   \n\n                                          genres  \\\n0  [Action, Adventure, Fantasy, Science Fiction]   \n1                   [Adventure, Fantasy, Action]   \n2                     [Action, Adventure, Crime]   \n3               [Action, Crime, Drama, Thriller]   \n4           [Action, Adventure, Science Fiction]   \n\n                                            keywords  \\\n0  [{\"id\": 1463, \"name\": \"culture clash\"}, {\"id\":...   \n1  [{\"id\": 270, \"name\": \"ocean\"}, {\"id\": 726, \"na...   \n2  [{\"id\": 470, \"name\": \"spy\"}, {\"id\": 818, \"name...   \n3  [{\"id\": 849, \"name\": \"dc comics\"}, {\"id\": 853,...   \n4  [{\"id\": 818, \"name\": \"based on novel\"}, {\"id\":...   \n\n                                                cast  \\\n0  [{\"cast_id\": 242, \"character\": \"Jake Sully\", \"...   \n1  [{\"cast_id\": 4, \"character\": \"Captain Jack Spa...   \n2  [{\"cast_id\": 1, \"character\": \"James Bond\", \"cr...   \n3  [{\"cast_id\": 2, \"character\": \"Bruce Wayne / Ba...   \n4  [{\"cast_id\": 5, \"character\": \"John Carter\", \"c...   \n\n                                                crew  \n0  [{\"credit_id\": \"52fe48009251416c750aca23\", \"de...  \n1  [{\"credit_id\": \"52fe4232c3a36847f800b579\", \"de...  \n2  [{\"credit_id\": \"54805967c3a36829b5002c41\", \"de...  \n3  [{\"credit_id\": \"52fe4781c3a36847f81398c3\", \"de...  \n4  [{\"credit_id\": \"52fe479ac3a36847f813eaa3\", \"de...  ",
            "text/html": "<div>\n<style scoped>\n    .dataframe tbody tr th:only-of-type {\n        vertical-align: middle;\n    }\n\n    .dataframe tbody tr th {\n        vertical-align: top;\n    }\n\n    .dataframe thead th {\n        text-align: right;\n    }\n</style>\n<table border=\"1\" class=\"dataframe\">\n  <thead>\n    <tr style=\"text-align: right;\">\n      <th></th>\n      <th>movie_id</th>\n      <th>title</th>\n      <th>overview</th>\n      <th>genres</th>\n      <th>keywords</th>\n      <th>cast</th>\n      <th>crew</th>\n    </tr>\n  </thead>\n  <tbody>\n    <tr>\n      <th>0</th>\n      <td>19995</td>\n      <td>Avatar</td>\n      <td>In the 22nd century, a paraplegic Marine is di...</td>\n      <td>[Action, Adventure, Fantasy, Science Fiction]</td>\n      <td>[{\"id\": 1463, \"name\": \"culture clash\"}, {\"id\":...</td>\n      <td>[{\"cast_id\": 242, \"character\": \"Jake Sully\", \"...</td>\n      <td>[{\"credit_id\": \"52fe48009251416c750aca23\", \"de...</td>\n    </tr>\n    <tr>\n      <th>1</th>\n      <td>285</td>\n      <td>Pirates of the Caribbean: At World's End</td>\n      <td>Captain Barbossa, long believed to be dead, ha...</td>\n      <td>[Adventure, Fantasy, Action]</td>\n      <td>[{\"id\": 270, \"name\": \"ocean\"}, {\"id\": 726, \"na...</td>\n      <td>[{\"cast_id\": 4, \"character\": \"Captain Jack Spa...</td>\n      <td>[{\"credit_id\": \"52fe4232c3a36847f800b579\", \"de...</td>\n    </tr>\n    <tr>\n      <th>2</th>\n      <td>206647</td>\n      <td>Spectre</td>\n      <td>A cryptic message from Bond’s past sends him o...</td>\n      <td>[Action, Adventure, Crime]</td>\n      <td>[{\"id\": 470, \"name\": \"spy\"}, {\"id\": 818, \"name...</td>\n      <td>[{\"cast_id\": 1, \"character\": \"James Bond\", \"cr...</td>\n      <td>[{\"credit_id\": \"54805967c3a36829b5002c41\", \"de...</td>\n    </tr>\n    <tr>\n      <th>3</th>\n      <td>49026</td>\n      <td>The Dark Knight Rises</td>\n      <td>Following the death of District Attorney Harve...</td>\n      <td>[Action, Crime, Drama, Thriller]</td>\n      <td>[{\"id\": 849, \"name\": \"dc comics\"}, {\"id\": 853,...</td>\n      <td>[{\"cast_id\": 2, \"character\": \"Bruce Wayne / Ba...</td>\n      <td>[{\"credit_id\": \"52fe4781c3a36847f81398c3\", \"de...</td>\n    </tr>\n    <tr>\n      <th>4</th>\n      <td>49529</td>\n      <td>John Carter</td>\n      <td>John Carter is a war-weary, former military ca...</td>\n      <td>[Action, Adventure, Science Fiction]</td>\n      <td>[{\"id\": 818, \"name\": \"based on novel\"}, {\"id\":...</td>\n      <td>[{\"cast_id\": 5, \"character\": \"John Carter\", \"c...</td>\n      <td>[{\"credit_id\": \"52fe479ac3a36847f813eaa3\", \"de...</td>\n    </tr>\n  </tbody>\n</table>\n</div>"
          },
          "metadata": {}
        }
      ],
      "execution_count": 32
    },
    {
      "cell_type": "code",
      "source": "movies['keywords']=movies['keywords'].apply(convert)",
      "metadata": {
        "trusted": true
      },
      "outputs": [],
      "execution_count": 33
    },
    {
      "cell_type": "code",
      "source": "def convert3(obj):\n    l=[]\n    counter=0\n    for i in ast.literal_eval(obj):\n        if(counter>=3):\n            break\n        l.append(i['name'])\n        counter+=1\n    return l",
      "metadata": {
        "trusted": true
      },
      "outputs": [],
      "execution_count": 34
    },
    {
      "cell_type": "code",
      "source": "movies['cast'].apply(convert3)",
      "metadata": {
        "trusted": true
      },
      "outputs": [
        {
          "execution_count": 35,
          "output_type": "execute_result",
          "data": {
            "text/plain": "0        [Sam Worthington, Zoe Saldana, Sigourney Weaver]\n1           [Johnny Depp, Orlando Bloom, Keira Knightley]\n2            [Daniel Craig, Christoph Waltz, Léa Seydoux]\n3            [Christian Bale, Michael Caine, Gary Oldman]\n4          [Taylor Kitsch, Lynn Collins, Samantha Morton]\n                              ...                        \n4779       [Brian O'Halloran, Jeff Anderson, Jason Mewes]\n4787         [Suzi Lorraine, Jared Degado, Heather Dorff]\n4797    [Michael Parle, Emma Eliza Regan, Patrick O'Do...\n4802        [Shane Carruth, David Sullivan, Casey Gooden]\n4807            [Daniel Henney, Eliza Coupe, Bill Paxton]\nName: cast, Length: 1494, dtype: object"
          },
          "metadata": {}
        }
      ],
      "execution_count": 35
    },
    {
      "cell_type": "code",
      "source": "movies['cast']=movies['cast'].apply(convert3)",
      "metadata": {
        "trusted": true
      },
      "outputs": [],
      "execution_count": 36
    },
    {
      "cell_type": "code",
      "source": "def fetch_director(obj):\n    l=[]\n    for i in ast.literal_eval(obj):\n        if i['job']=='Director':\n            l.append(i['name'])\n            break\n    return l",
      "metadata": {
        "trusted": true
      },
      "outputs": [],
      "execution_count": 37
    },
    {
      "cell_type": "code",
      "source": "movies['crew'].apply(fetch_director)",
      "metadata": {
        "trusted": true
      },
      "outputs": [
        {
          "execution_count": 38,
          "output_type": "execute_result",
          "data": {
            "text/plain": "0           [James Cameron]\n1          [Gore Verbinski]\n2              [Sam Mendes]\n3       [Christopher Nolan]\n4          [Andrew Stanton]\n               ...         \n4779          [Kevin Smith]\n4787         [Travis Legge]\n4797        [Ivan Kavanagh]\n4802        [Shane Carruth]\n4807          [Daniel Hsia]\nName: crew, Length: 1494, dtype: object"
          },
          "metadata": {}
        }
      ],
      "execution_count": 38
    },
    {
      "cell_type": "code",
      "source": "movies['crew']=movies['crew'].apply(fetch_director)",
      "metadata": {
        "trusted": true
      },
      "outputs": [],
      "execution_count": 39
    },
    {
      "cell_type": "code",
      "source": "\nmovies['overview'][0]",
      "metadata": {
        "trusted": true
      },
      "outputs": [
        {
          "execution_count": 42,
          "output_type": "execute_result",
          "data": {
            "text/plain": "['In',\n 'the',\n '22nd',\n 'century,',\n 'a',\n 'paraplegic',\n 'Marine',\n 'is',\n 'dispatched',\n 'to',\n 'the',\n 'moon',\n 'Pandora',\n 'on',\n 'a',\n 'unique',\n 'mission,',\n 'but',\n 'becomes',\n 'torn',\n 'between',\n 'following',\n 'orders',\n 'and',\n 'protecting',\n 'an',\n 'alien',\n 'civilization.']"
          },
          "metadata": {}
        }
      ],
      "execution_count": 42
    },
    {
      "cell_type": "code",
      "source": "movies['overview']=movies['overview'].apply(lambda x:x.split())",
      "metadata": {
        "trusted": true
      },
      "outputs": [],
      "execution_count": 41
    },
    {
      "cell_type": "code",
      "source": "movies['genres']=movies['genres'].apply(lambda x: [i.replace(\" \",\"\") for i in x])",
      "metadata": {
        "trusted": true
      },
      "outputs": [],
      "execution_count": 43
    },
    {
      "cell_type": "code",
      "source": "movies['cast']=movies['cast'].apply(lambda x: [i.replace(\" \",\"\") for i in x])\nmovies['keywords']=movies['keywords'].apply(lambda x: [i.replace(\" \",\"\") for i in x])\nmovies['crew']=movies['crew'].apply(lambda x: [i.replace(\" \",\"\") for i in x])",
      "metadata": {
        "trusted": true
      },
      "outputs": [],
      "execution_count": 44
    },
    {
      "cell_type": "code",
      "source": "movies.head()",
      "metadata": {
        "trusted": true
      },
      "outputs": [
        {
          "execution_count": 45,
          "output_type": "execute_result",
          "data": {
            "text/plain": "   movie_id                                     title  \\\n0     19995                                    Avatar   \n1       285  Pirates of the Caribbean: At World's End   \n2    206647                                   Spectre   \n3     49026                     The Dark Knight Rises   \n4     49529                               John Carter   \n\n                                            overview  \\\n0  [In, the, 22nd, century,, a, paraplegic, Marin...   \n1  [Captain, Barbossa,, long, believed, to, be, d...   \n2  [A, cryptic, message, from, Bond’s, past, send...   \n3  [Following, the, death, of, District, Attorney...   \n4  [John, Carter, is, a, war-weary,, former, mili...   \n\n                                         genres  \\\n0  [Action, Adventure, Fantasy, ScienceFiction]   \n1                  [Adventure, Fantasy, Action]   \n2                    [Action, Adventure, Crime]   \n3              [Action, Crime, Drama, Thriller]   \n4           [Action, Adventure, ScienceFiction]   \n\n                                            keywords  \\\n0  [cultureclash, future, spacewar, spacecolony, ...   \n1  [ocean, drugabuse, exoticisland, eastindiatrad...   \n2  [spy, basedonnovel, secretagent, sequel, mi6, ...   \n3  [dccomics, crimefighter, terrorist, secretiden...   \n4  [basedonnovel, mars, medallion, spacetravel, p...   \n\n                                            cast                crew  \n0  [SamWorthington, ZoeSaldana, SigourneyWeaver]      [JamesCameron]  \n1     [JohnnyDepp, OrlandoBloom, KeiraKnightley]     [GoreVerbinski]  \n2      [DanielCraig, ChristophWaltz, LéaSeydoux]         [SamMendes]  \n3      [ChristianBale, MichaelCaine, GaryOldman]  [ChristopherNolan]  \n4    [TaylorKitsch, LynnCollins, SamanthaMorton]     [AndrewStanton]  ",
            "text/html": "<div>\n<style scoped>\n    .dataframe tbody tr th:only-of-type {\n        vertical-align: middle;\n    }\n\n    .dataframe tbody tr th {\n        vertical-align: top;\n    }\n\n    .dataframe thead th {\n        text-align: right;\n    }\n</style>\n<table border=\"1\" class=\"dataframe\">\n  <thead>\n    <tr style=\"text-align: right;\">\n      <th></th>\n      <th>movie_id</th>\n      <th>title</th>\n      <th>overview</th>\n      <th>genres</th>\n      <th>keywords</th>\n      <th>cast</th>\n      <th>crew</th>\n    </tr>\n  </thead>\n  <tbody>\n    <tr>\n      <th>0</th>\n      <td>19995</td>\n      <td>Avatar</td>\n      <td>[In, the, 22nd, century,, a, paraplegic, Marin...</td>\n      <td>[Action, Adventure, Fantasy, ScienceFiction]</td>\n      <td>[cultureclash, future, spacewar, spacecolony, ...</td>\n      <td>[SamWorthington, ZoeSaldana, SigourneyWeaver]</td>\n      <td>[JamesCameron]</td>\n    </tr>\n    <tr>\n      <th>1</th>\n      <td>285</td>\n      <td>Pirates of the Caribbean: At World's End</td>\n      <td>[Captain, Barbossa,, long, believed, to, be, d...</td>\n      <td>[Adventure, Fantasy, Action]</td>\n      <td>[ocean, drugabuse, exoticisland, eastindiatrad...</td>\n      <td>[JohnnyDepp, OrlandoBloom, KeiraKnightley]</td>\n      <td>[GoreVerbinski]</td>\n    </tr>\n    <tr>\n      <th>2</th>\n      <td>206647</td>\n      <td>Spectre</td>\n      <td>[A, cryptic, message, from, Bond’s, past, send...</td>\n      <td>[Action, Adventure, Crime]</td>\n      <td>[spy, basedonnovel, secretagent, sequel, mi6, ...</td>\n      <td>[DanielCraig, ChristophWaltz, LéaSeydoux]</td>\n      <td>[SamMendes]</td>\n    </tr>\n    <tr>\n      <th>3</th>\n      <td>49026</td>\n      <td>The Dark Knight Rises</td>\n      <td>[Following, the, death, of, District, Attorney...</td>\n      <td>[Action, Crime, Drama, Thriller]</td>\n      <td>[dccomics, crimefighter, terrorist, secretiden...</td>\n      <td>[ChristianBale, MichaelCaine, GaryOldman]</td>\n      <td>[ChristopherNolan]</td>\n    </tr>\n    <tr>\n      <th>4</th>\n      <td>49529</td>\n      <td>John Carter</td>\n      <td>[John, Carter, is, a, war-weary,, former, mili...</td>\n      <td>[Action, Adventure, ScienceFiction]</td>\n      <td>[basedonnovel, mars, medallion, spacetravel, p...</td>\n      <td>[TaylorKitsch, LynnCollins, SamanthaMorton]</td>\n      <td>[AndrewStanton]</td>\n    </tr>\n  </tbody>\n</table>\n</div>"
          },
          "metadata": {}
        }
      ],
      "execution_count": 45
    },
    {
      "cell_type": "code",
      "source": "movies['tags']=movies['overview']+movies['genres']+movies['keywords']+movies['cast']+movies['crew']",
      "metadata": {
        "trusted": true
      },
      "outputs": [],
      "execution_count": 46
    },
    {
      "cell_type": "code",
      "source": "movies.head()",
      "metadata": {
        "trusted": true
      },
      "outputs": [
        {
          "execution_count": 47,
          "output_type": "execute_result",
          "data": {
            "text/plain": "   movie_id                                     title  \\\n0     19995                                    Avatar   \n1       285  Pirates of the Caribbean: At World's End   \n2    206647                                   Spectre   \n3     49026                     The Dark Knight Rises   \n4     49529                               John Carter   \n\n                                            overview  \\\n0  [In, the, 22nd, century,, a, paraplegic, Marin...   \n1  [Captain, Barbossa,, long, believed, to, be, d...   \n2  [A, cryptic, message, from, Bond’s, past, send...   \n3  [Following, the, death, of, District, Attorney...   \n4  [John, Carter, is, a, war-weary,, former, mili...   \n\n                                         genres  \\\n0  [Action, Adventure, Fantasy, ScienceFiction]   \n1                  [Adventure, Fantasy, Action]   \n2                    [Action, Adventure, Crime]   \n3              [Action, Crime, Drama, Thriller]   \n4           [Action, Adventure, ScienceFiction]   \n\n                                            keywords  \\\n0  [cultureclash, future, spacewar, spacecolony, ...   \n1  [ocean, drugabuse, exoticisland, eastindiatrad...   \n2  [spy, basedonnovel, secretagent, sequel, mi6, ...   \n3  [dccomics, crimefighter, terrorist, secretiden...   \n4  [basedonnovel, mars, medallion, spacetravel, p...   \n\n                                            cast                crew  \\\n0  [SamWorthington, ZoeSaldana, SigourneyWeaver]      [JamesCameron]   \n1     [JohnnyDepp, OrlandoBloom, KeiraKnightley]     [GoreVerbinski]   \n2      [DanielCraig, ChristophWaltz, LéaSeydoux]         [SamMendes]   \n3      [ChristianBale, MichaelCaine, GaryOldman]  [ChristopherNolan]   \n4    [TaylorKitsch, LynnCollins, SamanthaMorton]     [AndrewStanton]   \n\n                                                tags  \n0  [In, the, 22nd, century,, a, paraplegic, Marin...  \n1  [Captain, Barbossa,, long, believed, to, be, d...  \n2  [A, cryptic, message, from, Bond’s, past, send...  \n3  [Following, the, death, of, District, Attorney...  \n4  [John, Carter, is, a, war-weary,, former, mili...  ",
            "text/html": "<div>\n<style scoped>\n    .dataframe tbody tr th:only-of-type {\n        vertical-align: middle;\n    }\n\n    .dataframe tbody tr th {\n        vertical-align: top;\n    }\n\n    .dataframe thead th {\n        text-align: right;\n    }\n</style>\n<table border=\"1\" class=\"dataframe\">\n  <thead>\n    <tr style=\"text-align: right;\">\n      <th></th>\n      <th>movie_id</th>\n      <th>title</th>\n      <th>overview</th>\n      <th>genres</th>\n      <th>keywords</th>\n      <th>cast</th>\n      <th>crew</th>\n      <th>tags</th>\n    </tr>\n  </thead>\n  <tbody>\n    <tr>\n      <th>0</th>\n      <td>19995</td>\n      <td>Avatar</td>\n      <td>[In, the, 22nd, century,, a, paraplegic, Marin...</td>\n      <td>[Action, Adventure, Fantasy, ScienceFiction]</td>\n      <td>[cultureclash, future, spacewar, spacecolony, ...</td>\n      <td>[SamWorthington, ZoeSaldana, SigourneyWeaver]</td>\n      <td>[JamesCameron]</td>\n      <td>[In, the, 22nd, century,, a, paraplegic, Marin...</td>\n    </tr>\n    <tr>\n      <th>1</th>\n      <td>285</td>\n      <td>Pirates of the Caribbean: At World's End</td>\n      <td>[Captain, Barbossa,, long, believed, to, be, d...</td>\n      <td>[Adventure, Fantasy, Action]</td>\n      <td>[ocean, drugabuse, exoticisland, eastindiatrad...</td>\n      <td>[JohnnyDepp, OrlandoBloom, KeiraKnightley]</td>\n      <td>[GoreVerbinski]</td>\n      <td>[Captain, Barbossa,, long, believed, to, be, d...</td>\n    </tr>\n    <tr>\n      <th>2</th>\n      <td>206647</td>\n      <td>Spectre</td>\n      <td>[A, cryptic, message, from, Bond’s, past, send...</td>\n      <td>[Action, Adventure, Crime]</td>\n      <td>[spy, basedonnovel, secretagent, sequel, mi6, ...</td>\n      <td>[DanielCraig, ChristophWaltz, LéaSeydoux]</td>\n      <td>[SamMendes]</td>\n      <td>[A, cryptic, message, from, Bond’s, past, send...</td>\n    </tr>\n    <tr>\n      <th>3</th>\n      <td>49026</td>\n      <td>The Dark Knight Rises</td>\n      <td>[Following, the, death, of, District, Attorney...</td>\n      <td>[Action, Crime, Drama, Thriller]</td>\n      <td>[dccomics, crimefighter, terrorist, secretiden...</td>\n      <td>[ChristianBale, MichaelCaine, GaryOldman]</td>\n      <td>[ChristopherNolan]</td>\n      <td>[Following, the, death, of, District, Attorney...</td>\n    </tr>\n    <tr>\n      <th>4</th>\n      <td>49529</td>\n      <td>John Carter</td>\n      <td>[John, Carter, is, a, war-weary,, former, mili...</td>\n      <td>[Action, Adventure, ScienceFiction]</td>\n      <td>[basedonnovel, mars, medallion, spacetravel, p...</td>\n      <td>[TaylorKitsch, LynnCollins, SamanthaMorton]</td>\n      <td>[AndrewStanton]</td>\n      <td>[John, Carter, is, a, war-weary,, former, mili...</td>\n    </tr>\n  </tbody>\n</table>\n</div>"
          },
          "metadata": {}
        }
      ],
      "execution_count": 47
    },
    {
      "cell_type": "code",
      "source": "new_df=movies[['movie_id','title','tags']]",
      "metadata": {
        "trusted": true
      },
      "outputs": [],
      "execution_count": 48
    },
    {
      "cell_type": "code",
      "source": "new_df",
      "metadata": {
        "trusted": true
      },
      "outputs": [
        {
          "execution_count": 49,
          "output_type": "execute_result",
          "data": {
            "text/plain": "      movie_id                                     title  \\\n0        19995                                    Avatar   \n1          285  Pirates of the Caribbean: At World's End   \n2       206647                                   Spectre   \n3        49026                     The Dark Knight Rises   \n4        49529                               John Carter   \n...        ...                                       ...   \n4779      2292                                    Clerks   \n4787    255266                                 Dry Spell   \n4797    157185                               Tin Can Man   \n4802     14337                                    Primer   \n4807    126186                          Shanghai Calling   \n\n                                                   tags  \n0     [In, the, 22nd, century,, a, paraplegic, Marin...  \n1     [Captain, Barbossa,, long, believed, to, be, d...  \n2     [A, cryptic, message, from, Bond’s, past, send...  \n3     [Following, the, death, of, District, Attorney...  \n4     [John, Carter, is, a, war-weary,, former, mili...  \n...                                                 ...  \n4779  [Convenience, and, video, store, clerks, Dante...  \n4787  [Sasha, tries, to, get, her, soon-to-be, ex, h...  \n4797  [Recently, dumped, by, his, girlfirend, for, a...  \n4802  [Friends/fledgling, entrepreneurs, invent, a, ...  \n4807  [When, ambitious, New, York, attorney, Sam, is...  \n\n[1494 rows x 3 columns]",
            "text/html": "<div>\n<style scoped>\n    .dataframe tbody tr th:only-of-type {\n        vertical-align: middle;\n    }\n\n    .dataframe tbody tr th {\n        vertical-align: top;\n    }\n\n    .dataframe thead th {\n        text-align: right;\n    }\n</style>\n<table border=\"1\" class=\"dataframe\">\n  <thead>\n    <tr style=\"text-align: right;\">\n      <th></th>\n      <th>movie_id</th>\n      <th>title</th>\n      <th>tags</th>\n    </tr>\n  </thead>\n  <tbody>\n    <tr>\n      <th>0</th>\n      <td>19995</td>\n      <td>Avatar</td>\n      <td>[In, the, 22nd, century,, a, paraplegic, Marin...</td>\n    </tr>\n    <tr>\n      <th>1</th>\n      <td>285</td>\n      <td>Pirates of the Caribbean: At World's End</td>\n      <td>[Captain, Barbossa,, long, believed, to, be, d...</td>\n    </tr>\n    <tr>\n      <th>2</th>\n      <td>206647</td>\n      <td>Spectre</td>\n      <td>[A, cryptic, message, from, Bond’s, past, send...</td>\n    </tr>\n    <tr>\n      <th>3</th>\n      <td>49026</td>\n      <td>The Dark Knight Rises</td>\n      <td>[Following, the, death, of, District, Attorney...</td>\n    </tr>\n    <tr>\n      <th>4</th>\n      <td>49529</td>\n      <td>John Carter</td>\n      <td>[John, Carter, is, a, war-weary,, former, mili...</td>\n    </tr>\n    <tr>\n      <th>...</th>\n      <td>...</td>\n      <td>...</td>\n      <td>...</td>\n    </tr>\n    <tr>\n      <th>4779</th>\n      <td>2292</td>\n      <td>Clerks</td>\n      <td>[Convenience, and, video, store, clerks, Dante...</td>\n    </tr>\n    <tr>\n      <th>4787</th>\n      <td>255266</td>\n      <td>Dry Spell</td>\n      <td>[Sasha, tries, to, get, her, soon-to-be, ex, h...</td>\n    </tr>\n    <tr>\n      <th>4797</th>\n      <td>157185</td>\n      <td>Tin Can Man</td>\n      <td>[Recently, dumped, by, his, girlfirend, for, a...</td>\n    </tr>\n    <tr>\n      <th>4802</th>\n      <td>14337</td>\n      <td>Primer</td>\n      <td>[Friends/fledgling, entrepreneurs, invent, a, ...</td>\n    </tr>\n    <tr>\n      <th>4807</th>\n      <td>126186</td>\n      <td>Shanghai Calling</td>\n      <td>[When, ambitious, New, York, attorney, Sam, is...</td>\n    </tr>\n  </tbody>\n</table>\n<p>1494 rows × 3 columns</p>\n</div>"
          },
          "metadata": {}
        }
      ],
      "execution_count": 49
    },
    {
      "cell_type": "code",
      "source": "new_df['tags']=new_df['tags'].apply(lambda x:\" \".join(x))",
      "metadata": {
        "trusted": true
      },
      "outputs": [
        {
          "name": "stderr",
          "text": "<ipython-input-50-53a061086f2e>:1: SettingWithCopyWarning: \nA value is trying to be set on a copy of a slice from a DataFrame.\nTry using .loc[row_indexer,col_indexer] = value instead\n\nSee the caveats in the documentation: https://pandas.pydata.org/pandas-docs/stable/user_guide/indexing.html#returning-a-view-versus-a-copy\n  new_df['tags']=new_df['tags'].apply(lambda x:\" \".join(x))\n",
          "output_type": "stream"
        }
      ],
      "execution_count": 50
    },
    {
      "cell_type": "code",
      "source": "new_df.head()",
      "metadata": {
        "trusted": true
      },
      "outputs": [
        {
          "execution_count": 51,
          "output_type": "execute_result",
          "data": {
            "text/plain": "   movie_id                                     title  \\\n0     19995                                    Avatar   \n1       285  Pirates of the Caribbean: At World's End   \n2    206647                                   Spectre   \n3     49026                     The Dark Knight Rises   \n4     49529                               John Carter   \n\n                                                tags  \n0  In the 22nd century, a paraplegic Marine is di...  \n1  Captain Barbossa, long believed to be dead, ha...  \n2  A cryptic message from Bond’s past sends him o...  \n3  Following the death of District Attorney Harve...  \n4  John Carter is a war-weary, former military ca...  ",
            "text/html": "<div>\n<style scoped>\n    .dataframe tbody tr th:only-of-type {\n        vertical-align: middle;\n    }\n\n    .dataframe tbody tr th {\n        vertical-align: top;\n    }\n\n    .dataframe thead th {\n        text-align: right;\n    }\n</style>\n<table border=\"1\" class=\"dataframe\">\n  <thead>\n    <tr style=\"text-align: right;\">\n      <th></th>\n      <th>movie_id</th>\n      <th>title</th>\n      <th>tags</th>\n    </tr>\n  </thead>\n  <tbody>\n    <tr>\n      <th>0</th>\n      <td>19995</td>\n      <td>Avatar</td>\n      <td>In the 22nd century, a paraplegic Marine is di...</td>\n    </tr>\n    <tr>\n      <th>1</th>\n      <td>285</td>\n      <td>Pirates of the Caribbean: At World's End</td>\n      <td>Captain Barbossa, long believed to be dead, ha...</td>\n    </tr>\n    <tr>\n      <th>2</th>\n      <td>206647</td>\n      <td>Spectre</td>\n      <td>A cryptic message from Bond’s past sends him o...</td>\n    </tr>\n    <tr>\n      <th>3</th>\n      <td>49026</td>\n      <td>The Dark Knight Rises</td>\n      <td>Following the death of District Attorney Harve...</td>\n    </tr>\n    <tr>\n      <th>4</th>\n      <td>49529</td>\n      <td>John Carter</td>\n      <td>John Carter is a war-weary, former military ca...</td>\n    </tr>\n  </tbody>\n</table>\n</div>"
          },
          "metadata": {}
        }
      ],
      "execution_count": 51
    },
    {
      "cell_type": "code",
      "source": "new_df['tags'][0]",
      "metadata": {
        "trusted": true
      },
      "outputs": [
        {
          "execution_count": 52,
          "output_type": "execute_result",
          "data": {
            "text/plain": "'In the 22nd century, a paraplegic Marine is dispatched to the moon Pandora on a unique mission, but becomes torn between following orders and protecting an alien civilization. Action Adventure Fantasy ScienceFiction cultureclash future spacewar spacecolony society spacetravel futuristic romance space alien tribe alienplanet cgi marine soldier battle loveaffair antiwar powerrelations mindandsoul 3d SamWorthington ZoeSaldana SigourneyWeaver JamesCameron'"
          },
          "metadata": {}
        }
      ],
      "execution_count": 52
    },
    {
      "cell_type": "code",
      "source": "new_df['tags']=new_df['tags'].apply(lambda x:x.lower())",
      "metadata": {
        "trusted": true
      },
      "outputs": [
        {
          "name": "stderr",
          "text": "<ipython-input-53-242d679aab18>:1: SettingWithCopyWarning: \nA value is trying to be set on a copy of a slice from a DataFrame.\nTry using .loc[row_indexer,col_indexer] = value instead\n\nSee the caveats in the documentation: https://pandas.pydata.org/pandas-docs/stable/user_guide/indexing.html#returning-a-view-versus-a-copy\n  new_df['tags']=new_df['tags'].apply(lambda x:x.lower())\n",
          "output_type": "stream"
        }
      ],
      "execution_count": 53
    },
    {
      "cell_type": "code",
      "source": "new_df['tags'][0]",
      "metadata": {
        "trusted": true
      },
      "outputs": [
        {
          "execution_count": 54,
          "output_type": "execute_result",
          "data": {
            "text/plain": "'in the 22nd century, a paraplegic marine is dispatched to the moon pandora on a unique mission, but becomes torn between following orders and protecting an alien civilization. action adventure fantasy sciencefiction cultureclash future spacewar spacecolony society spacetravel futuristic romance space alien tribe alienplanet cgi marine soldier battle loveaffair antiwar powerrelations mindandsoul 3d samworthington zoesaldana sigourneyweaver jamescameron'"
          },
          "metadata": {}
        }
      ],
      "execution_count": 54
    },
    {
      "cell_type": "code",
      "source": "new_df.head()",
      "metadata": {
        "trusted": true
      },
      "outputs": [
        {
          "execution_count": 55,
          "output_type": "execute_result",
          "data": {
            "text/plain": "   movie_id                                     title  \\\n0     19995                                    Avatar   \n1       285  Pirates of the Caribbean: At World's End   \n2    206647                                   Spectre   \n3     49026                     The Dark Knight Rises   \n4     49529                               John Carter   \n\n                                                tags  \n0  in the 22nd century, a paraplegic marine is di...  \n1  captain barbossa, long believed to be dead, ha...  \n2  a cryptic message from bond’s past sends him o...  \n3  following the death of district attorney harve...  \n4  john carter is a war-weary, former military ca...  ",
            "text/html": "<div>\n<style scoped>\n    .dataframe tbody tr th:only-of-type {\n        vertical-align: middle;\n    }\n\n    .dataframe tbody tr th {\n        vertical-align: top;\n    }\n\n    .dataframe thead th {\n        text-align: right;\n    }\n</style>\n<table border=\"1\" class=\"dataframe\">\n  <thead>\n    <tr style=\"text-align: right;\">\n      <th></th>\n      <th>movie_id</th>\n      <th>title</th>\n      <th>tags</th>\n    </tr>\n  </thead>\n  <tbody>\n    <tr>\n      <th>0</th>\n      <td>19995</td>\n      <td>Avatar</td>\n      <td>in the 22nd century, a paraplegic marine is di...</td>\n    </tr>\n    <tr>\n      <th>1</th>\n      <td>285</td>\n      <td>Pirates of the Caribbean: At World's End</td>\n      <td>captain barbossa, long believed to be dead, ha...</td>\n    </tr>\n    <tr>\n      <th>2</th>\n      <td>206647</td>\n      <td>Spectre</td>\n      <td>a cryptic message from bond’s past sends him o...</td>\n    </tr>\n    <tr>\n      <th>3</th>\n      <td>49026</td>\n      <td>The Dark Knight Rises</td>\n      <td>following the death of district attorney harve...</td>\n    </tr>\n    <tr>\n      <th>4</th>\n      <td>49529</td>\n      <td>John Carter</td>\n      <td>john carter is a war-weary, former military ca...</td>\n    </tr>\n  </tbody>\n</table>\n</div>"
          },
          "metadata": {}
        }
      ],
      "execution_count": 55
    },
    {
      "cell_type": "code",
      "source": "from sklearn.feature_extraction.text import CountVectorizer",
      "metadata": {
        "trusted": true
      },
      "outputs": [],
      "execution_count": 56
    },
    {
      "cell_type": "code",
      "source": "cv=CountVectorizer(max_features=5000,stop_words='english')",
      "metadata": {
        "trusted": true
      },
      "outputs": [],
      "execution_count": 57
    },
    {
      "cell_type": "code",
      "source": "vectors=cv.fit_transform(new_df['tags']).toarray()",
      "metadata": {
        "trusted": true
      },
      "outputs": [],
      "execution_count": 58
    },
    {
      "cell_type": "code",
      "source": "vectors",
      "metadata": {
        "trusted": true
      },
      "outputs": [
        {
          "execution_count": 59,
          "output_type": "execute_result",
          "data": {
            "text/plain": "array([[0, 0, 0, ..., 0, 0, 0],\n       [0, 0, 0, ..., 0, 0, 0],\n       [0, 0, 0, ..., 0, 0, 0],\n       ...,\n       [0, 0, 0, ..., 0, 0, 0],\n       [0, 0, 0, ..., 0, 0, 0],\n       [0, 0, 0, ..., 0, 0, 0]], dtype=int64)"
          },
          "metadata": {}
        }
      ],
      "execution_count": 59
    },
    {
      "cell_type": "code",
      "source": "vectors[0]",
      "metadata": {
        "trusted": true
      },
      "outputs": [
        {
          "execution_count": 60,
          "output_type": "execute_result",
          "data": {
            "text/plain": "array([0, 0, 0, ..., 0, 0, 0], dtype=int64)"
          },
          "metadata": {}
        }
      ],
      "execution_count": 60
    },
    {
      "cell_type": "code",
      "source": "import nltk",
      "metadata": {
        "trusted": true
      },
      "outputs": [],
      "execution_count": 61
    },
    {
      "cell_type": "code",
      "source": "from nltk.stem.porter import PorterStemmer\nps=PorterStemmer()",
      "metadata": {
        "trusted": true
      },
      "outputs": [],
      "execution_count": 63
    },
    {
      "cell_type": "code",
      "source": "def stem(text):\n    y=[]\n    for i in text.split():\n        y.append(ps.stem(i))\n    return \" \".join(y)\n        ",
      "metadata": {
        "trusted": true
      },
      "outputs": [],
      "execution_count": 64
    },
    {
      "cell_type": "code",
      "source": "ps.stem('loving')",
      "metadata": {
        "trusted": true
      },
      "outputs": [
        {
          "execution_count": 65,
          "output_type": "execute_result",
          "data": {
            "text/plain": "'love'"
          },
          "metadata": {}
        }
      ],
      "execution_count": 65
    },
    {
      "cell_type": "code",
      "source": "new_df['tags']=new_df['tags'].apply(stem)",
      "metadata": {
        "trusted": true
      },
      "outputs": [
        {
          "name": "stderr",
          "text": "<ipython-input-66-402dd7cb6b10>:1: SettingWithCopyWarning: \nA value is trying to be set on a copy of a slice from a DataFrame.\nTry using .loc[row_indexer,col_indexer] = value instead\n\nSee the caveats in the documentation: https://pandas.pydata.org/pandas-docs/stable/user_guide/indexing.html#returning-a-view-versus-a-copy\n  new_df['tags']=new_df['tags'].apply(stem)\n",
          "output_type": "stream"
        }
      ],
      "execution_count": 66
    },
    {
      "cell_type": "code",
      "source": "new_df['tags'][0]",
      "metadata": {
        "trusted": true
      },
      "outputs": [
        {
          "execution_count": 67,
          "output_type": "execute_result",
          "data": {
            "text/plain": "'in the 22nd century, a parapleg marin is dispatch to the moon pandora on a uniqu mission, but becom torn between follow order and protect an alien civilization. action adventur fantasi sciencefict cultureclash futur spacewar spacecoloni societi spacetravel futurist romanc space alien tribe alienplanet cgi marin soldier battl loveaffair antiwar powerrel mindandsoul 3d samworthington zoesaldana sigourneyweav jamescameron'"
          },
          "metadata": {}
        }
      ],
      "execution_count": 67
    },
    {
      "cell_type": "code",
      "source": "from sklearn.metrics.pairwise import cosine_similarity",
      "metadata": {
        "trusted": true
      },
      "outputs": [],
      "execution_count": 68
    },
    {
      "cell_type": "code",
      "source": "similarity=cosine_similarity(vectors)",
      "metadata": {
        "trusted": true
      },
      "outputs": [],
      "execution_count": 70
    },
    {
      "cell_type": "code",
      "source": "similarity[0]",
      "metadata": {
        "trusted": true
      },
      "outputs": [
        {
          "execution_count": 72,
          "output_type": "execute_result",
          "data": {
            "text/plain": "array([1.        , 0.08035074, 0.05437272, ..., 0.        , 0.05437272,\n       0.02469324])"
          },
          "metadata": {}
        }
      ],
      "execution_count": 72
    },
    {
      "cell_type": "code",
      "source": "sorted(list(enumerate(similarity[0])),reverse=True,key=lambda x:x[1])[1:6]",
      "metadata": {
        "trusted": true
      },
      "outputs": [
        {
          "execution_count": 77,
          "output_type": "execute_result",
          "data": {
            "text/plain": "[(188, 0.22439708538128578),\n (579, 0.2243232584059758),\n (331, 0.22086305214969312),\n (1244, 0.21452116007007205),\n (51, 0.20447945297729914)]"
          },
          "metadata": {}
        }
      ],
      "execution_count": 77
    },
    {
      "cell_type": "code",
      "source": "def recommend(movie):\n    mi=new_df[new_df['title']=='Avatar'].index[0]\n    dis=similarity[mi]\n    ml=sorted(list(enumerate(dis)),reverse=True,key=lambda x:x[1])[1:6]\n    for i in ml:\n        print(new_df.iloc[i[0]].title)",
      "metadata": {
        "trusted": true
      },
      "outputs": [],
      "execution_count": 87
    },
    {
      "cell_type": "code",
      "source": "new_df[new_df['title']=='Avatar']",
      "metadata": {
        "trusted": true
      },
      "outputs": [
        {
          "execution_count": 73,
          "output_type": "execute_result",
          "data": {
            "text/plain": "   movie_id   title                                               tags\n0     19995  Avatar  in the 22nd century, a parapleg marin is dispa...",
            "text/html": "<div>\n<style scoped>\n    .dataframe tbody tr th:only-of-type {\n        vertical-align: middle;\n    }\n\n    .dataframe tbody tr th {\n        vertical-align: top;\n    }\n\n    .dataframe thead th {\n        text-align: right;\n    }\n</style>\n<table border=\"1\" class=\"dataframe\">\n  <thead>\n    <tr style=\"text-align: right;\">\n      <th></th>\n      <th>movie_id</th>\n      <th>title</th>\n      <th>tags</th>\n    </tr>\n  </thead>\n  <tbody>\n    <tr>\n      <th>0</th>\n      <td>19995</td>\n      <td>Avatar</td>\n      <td>in the 22nd century, a parapleg marin is dispa...</td>\n    </tr>\n  </tbody>\n</table>\n</div>"
          },
          "metadata": {}
        }
      ],
      "execution_count": 73
    },
    {
      "cell_type": "code",
      "source": "new_df[new_df['title']=='Avatar'].index",
      "metadata": {
        "trusted": true
      },
      "outputs": [
        {
          "execution_count": 74,
          "output_type": "execute_result",
          "data": {
            "text/plain": "Index([0], dtype='int64')"
          },
          "metadata": {}
        }
      ],
      "execution_count": 74
    },
    {
      "cell_type": "code",
      "source": "recommend('Batman Begins')",
      "metadata": {
        "trusted": true
      },
      "outputs": [
        {
          "name": "stdout",
          "text": "Ender's Game\nAliens vs Predator: Requiem\nBattle: Los Angeles\nApollo 18\nJupiter Ascending\n",
          "output_type": "stream"
        }
      ],
      "execution_count": 89
    },
    {
      "cell_type": "code",
      "source": "new_df.iloc[188].title",
      "metadata": {
        "trusted": true
      },
      "outputs": [
        {
          "execution_count": 81,
          "output_type": "execute_result",
          "data": {
            "text/plain": "\"Ender's Game\""
          },
          "metadata": {}
        }
      ],
      "execution_count": 81
    },
    {
      "cell_type": "code",
      "source": "new_df",
      "metadata": {
        "trusted": true
      },
      "outputs": [
        {
          "execution_count": 90,
          "output_type": "execute_result",
          "data": {
            "text/plain": "      movie_id                                     title  \\\n0        19995                                    Avatar   \n1          285  Pirates of the Caribbean: At World's End   \n2       206647                                   Spectre   \n3        49026                     The Dark Knight Rises   \n4        49529                               John Carter   \n...        ...                                       ...   \n4779      2292                                    Clerks   \n4787    255266                                 Dry Spell   \n4797    157185                               Tin Can Man   \n4802     14337                                    Primer   \n4807    126186                          Shanghai Calling   \n\n                                                   tags  \n0     in the 22nd century, a parapleg marin is dispa...  \n1     captain barbossa, long believ to be dead, ha c...  \n2     a cryptic messag from bond’ past send him on a...  \n3     follow the death of district attorney harvey d...  \n4     john carter is a war-weary, former militari ca...  \n...                                                 ...  \n4779  conveni and video store clerk dant and randal ...  \n4787  sasha tri to get her soon-to-b ex husband kyle...  \n4797  recent dump by hi girlfirend for anoth man, wo...  \n4802  friends/fledgl entrepreneur invent a devic in ...  \n4807  when ambiti new york attorney sam is sent to s...  \n\n[1494 rows x 3 columns]",
            "text/html": "<div>\n<style scoped>\n    .dataframe tbody tr th:only-of-type {\n        vertical-align: middle;\n    }\n\n    .dataframe tbody tr th {\n        vertical-align: top;\n    }\n\n    .dataframe thead th {\n        text-align: right;\n    }\n</style>\n<table border=\"1\" class=\"dataframe\">\n  <thead>\n    <tr style=\"text-align: right;\">\n      <th></th>\n      <th>movie_id</th>\n      <th>title</th>\n      <th>tags</th>\n    </tr>\n  </thead>\n  <tbody>\n    <tr>\n      <th>0</th>\n      <td>19995</td>\n      <td>Avatar</td>\n      <td>in the 22nd century, a parapleg marin is dispa...</td>\n    </tr>\n    <tr>\n      <th>1</th>\n      <td>285</td>\n      <td>Pirates of the Caribbean: At World's End</td>\n      <td>captain barbossa, long believ to be dead, ha c...</td>\n    </tr>\n    <tr>\n      <th>2</th>\n      <td>206647</td>\n      <td>Spectre</td>\n      <td>a cryptic messag from bond’ past send him on a...</td>\n    </tr>\n    <tr>\n      <th>3</th>\n      <td>49026</td>\n      <td>The Dark Knight Rises</td>\n      <td>follow the death of district attorney harvey d...</td>\n    </tr>\n    <tr>\n      <th>4</th>\n      <td>49529</td>\n      <td>John Carter</td>\n      <td>john carter is a war-weary, former militari ca...</td>\n    </tr>\n    <tr>\n      <th>...</th>\n      <td>...</td>\n      <td>...</td>\n      <td>...</td>\n    </tr>\n    <tr>\n      <th>4779</th>\n      <td>2292</td>\n      <td>Clerks</td>\n      <td>conveni and video store clerk dant and randal ...</td>\n    </tr>\n    <tr>\n      <th>4787</th>\n      <td>255266</td>\n      <td>Dry Spell</td>\n      <td>sasha tri to get her soon-to-b ex husband kyle...</td>\n    </tr>\n    <tr>\n      <th>4797</th>\n      <td>157185</td>\n      <td>Tin Can Man</td>\n      <td>recent dump by hi girlfirend for anoth man, wo...</td>\n    </tr>\n    <tr>\n      <th>4802</th>\n      <td>14337</td>\n      <td>Primer</td>\n      <td>friends/fledgl entrepreneur invent a devic in ...</td>\n    </tr>\n    <tr>\n      <th>4807</th>\n      <td>126186</td>\n      <td>Shanghai Calling</td>\n      <td>when ambiti new york attorney sam is sent to s...</td>\n    </tr>\n  </tbody>\n</table>\n<p>1494 rows × 3 columns</p>\n</div>"
          },
          "metadata": {}
        }
      ],
      "execution_count": 90
    },
    {
      "cell_type": "code",
      "source": "recommend('Avatar')",
      "metadata": {
        "trusted": true
      },
      "outputs": [
        {
          "name": "stdout",
          "text": "Ender's Game\nAliens vs Predator: Requiem\nBattle: Los Angeles\nApollo 18\nJupiter Ascending\n",
          "output_type": "stream"
        }
      ],
      "execution_count": 91
    },
    {
      "cell_type": "code",
      "source": "import pickle",
      "metadata": {
        "trusted": true
      },
      "outputs": [],
      "execution_count": 92
    },
    {
      "cell_type": "code",
      "source": "pickle.dump(new_df,open('movies.pkl','wb'))",
      "metadata": {
        "trusted": true
      },
      "outputs": [],
      "execution_count": 93
    },
    {
      "cell_type": "code",
      "source": "pickle.dump(new_df.to_dict(),open('movie_dict.pkl','wb'))",
      "metadata": {
        "trusted": true
      },
      "outputs": [],
      "execution_count": 96
    },
    {
      "cell_type": "code",
      "source": "pickle.dump(similarity,open('similar.pkl','wb'))",
      "metadata": {
        "trusted": true
      },
      "outputs": [],
      "execution_count": 97
    },
    {
      "cell_type": "code",
      "source": "",
      "metadata": {
        "trusted": true
      },
      "outputs": [],
      "execution_count": null
    }
  ]
}
